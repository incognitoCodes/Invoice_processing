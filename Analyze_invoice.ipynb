{
 "cells": [
  {
   "cell_type": "markdown",
   "id": "682ba936",
   "metadata": {},
   "source": [
    "## Analyzing Invoice and Receipts Using Textract\n",
    "\n",
    "Amazon Textract uses machine learning to understand the context of invoices and receipts and automatically extracts data such as invoice or receipt date, invoice or receipt number, item prices, total amount, and payment terms etc. The invoices do not need to be in specific format.\n",
    "\n",
    "The following is a list of the **standard fields that AnalyzeExpense currently supports**:\n",
    "\n",
    "- Vendor Name: VENDOR_NAME\n",
    "- Total: TOTAL\n",
    "- Receiver Address: RECEIVER_ADDRESS\n",
    "- Invoice/Receipt Date: INVOICE_RECEIPT_DATE\n",
    "- Invoice/Receipt ID: INVOICE_RECEIPT_ID\n",
    "- Payment Terms: PAYMENT_TERMS\n",
    "- Subtotal: SUBTOTAL\n",
    "- Due Date: DUE_DATE\n",
    "- Tax: TAX\n",
    "- Invoice Tax Payer ID (SSN/ITIN or EIN): TAX_PAYER_ID\n",
    "- Item Name: ITEM_NAME\n",
    "- Item Price: PRICE\n",
    "- Item Quantity: QUANTITY\n",
    "\n",
    "If the invoice and receipt has other information and you would like to extract those information, you can use Textract Query to ask natural language questions to get the answer."
   ]
  },
  {
   "cell_type": "code",
   "execution_count": null,
   "id": "e8a65d22",
   "metadata": {},
   "outputs": [],
   "source": [
    "!pip install boto3 --upgrade\n",
    "!pip install awscli --upgrade\n",
    "!pip install botocore --upgrade"
   ]
  },
  {
   "cell_type": "code",
   "execution_count": null,
   "id": "4449fda4",
   "metadata": {},
   "outputs": [],
   "source": [
    "!pip install amazon-textract-response-parser --upgrade"
   ]
  },
  {
   "cell_type": "code",
   "execution_count": null,
   "id": "ff8fe0be",
   "metadata": {},
   "outputs": [],
   "source": [
    "!pip install amazon-textract-prettyprinter --upgrade"
   ]
  },
  {
   "cell_type": "code",
   "execution_count": null,
   "id": "4160df46",
   "metadata": {},
   "outputs": [],
   "source": [
    "import boto3\n",
    "from PIL import Image\n",
    "import json\n",
    "import pandas as pd\n",
    "import time\n",
    "import requests\n",
    "import urllib.parse as urlparse\n",
    "import html"
   ]
  },
  {
   "cell_type": "code",
   "execution_count": null,
   "id": "d0589f8a",
   "metadata": {},
   "outputs": [],
   "source": [
    "from textractprettyprinter.t_pretty_print_expense import get_string\n",
    "from textractprettyprinter.t_pretty_print_expense import Textract_Expense_Pretty_Print, Pretty_Print_Table_Format"
   ]
  },
  {
   "cell_type": "code",
   "execution_count": null,
   "id": "c7302860",
   "metadata": {},
   "outputs": [],
   "source": [
    "#-- Document\n",
    "s3BucketName = \"my-projects-abhi-2022\"   # create a bucket and change to your bucket name\n",
    "s3=boto3.resource('s3')\n",
    "region = boto3.session.Session().region_name\n",
    "\n",
    "#-- Amazon Textract client\n",
    "textract = boto3.client('textract', region_name=region)"
   ]
  },
  {
   "cell_type": "markdown",
   "id": "64ada2bf",
   "metadata": {},
   "source": [
    "Let's copy some invoices and receipts to our S3 bucket. In the below cell, replace the destination bucket (my-projects-abhi-2022) with your own bucket name."
   ]
  },
  {
   "cell_type": "code",
   "execution_count": null,
   "id": "424c6fc0",
   "metadata": {},
   "outputs": [],
   "source": [
    "!aws s3 cp s3://ml-materials/invoices_processing_workshop/ s3://my-projects-abhi-2022/Textract/invoices_processing_workshop/ --recursive"
   ]
  },
  {
   "cell_type": "code",
   "execution_count": null,
   "id": "1032a142",
   "metadata": {},
   "outputs": [],
   "source": [
    "from PIL import Image\n",
    "import s3fs\n",
    "\n",
    "fs = s3fs.S3FileSystem()\n",
    "\n",
    "documentName = \"Textract/invoices_processing_workshop/invoice_0.png\"  # change to S3 key of your document and remove the bucket name\n",
    "\n",
    "# open it directly\n",
    "with fs.open(\"s3://\" + s3BucketName+\"/\" + documentName) as f:\n",
    "    img=Image.open(f)\n",
    "    basewidth = 1000\n",
    "    wpercent = (basewidth/float(img.size[0]))\n",
    "    hsize = int((float(img.size[1])*float(wpercent)))\n",
    "    img = img.resize((basewidth,hsize), Image.BICUBIC)\n",
    "    display(img)"
   ]
  },
  {
   "cell_type": "markdown",
   "id": "1359d195",
   "metadata": {},
   "source": [
    "### Using Amazon Textract AnalyzeExpense and Textract Query"
   ]
  },
  {
   "cell_type": "code",
   "execution_count": null,
   "id": "31edfcf7",
   "metadata": {},
   "outputs": [],
   "source": [
    "%%time\n",
    "\n",
    "#-- Call Amazon Textract AnalyzeExpense\n",
    "response_expense = textract.analyze_expense(\n",
    "    Document={\n",
    "        'S3Object': {\n",
    "            'Bucket': s3BucketName,\n",
    "            'Name': documentName\n",
    "        }\n",
    "    })"
   ]
  },
  {
   "cell_type": "code",
   "execution_count": null,
   "id": "45dca346",
   "metadata": {},
   "outputs": [],
   "source": [
    "%store response_expense"
   ]
  },
  {
   "cell_type": "code",
   "execution_count": null,
   "id": "69eee52d",
   "metadata": {},
   "outputs": [],
   "source": [
    "pretty_printed_string = get_string(textract_json=response_expense, output_type=[Textract_Expense_Pretty_Print.SUMMARY, Textract_Expense_Pretty_Print.LINEITEMGROUPS], table_format=Pretty_Print_Table_Format.fancy_grid)\n",
    "print(pretty_printed_string)"
   ]
  },
  {
   "cell_type": "markdown",
   "id": "1e8e217e",
   "metadata": {},
   "source": [
    "The below code will output the analyze expense API result in Key:Value pair"
   ]
  },
  {
   "cell_type": "code",
   "execution_count": null,
   "id": "43b2a4ae",
   "metadata": {},
   "outputs": [],
   "source": [
    "summary_entities_values = []\n",
    "summary_fields = []\n",
    "expense_item = []\n",
    "\n",
    "for expense_doc in response_expense[\"ExpenseDocuments\"]:\n",
    "    for field in expense_doc[\"SummaryFields\"]:\n",
    "        kvs = {}\n",
    "        if \"LabelDetection\" in field:\n",
    "            if \"ValueDetection\" in field:\n",
    "                kvs[field[\"LabelDetection\"][\"Text\"]] = field[\"ValueDetection\"][\"Text\"]\n",
    "        else:\n",
    "            kvs[field[\"Type\"][\"Text\"]] = field[\"ValueDetection\"][\"Text\"]\n",
    "        summary_entities_values.append(kvs.copy())\n",
    "        kvs = None\n",
    "\n",
    "    for line_item_group in expense_doc[\"LineItemGroups\"]:\n",
    "            for line_items in line_item_group[\"LineItems\"]:\n",
    "                for field in line_items[\"LineItemExpenseFields\"]:\n",
    "                    kvs = {}\n",
    "                    if \"LabelDetection\" in field:\n",
    "                        if \"ValueDetection\" in field:\n",
    "                            kvs[field[\"LabelDetection\"][\"Text\"]] = field[\"ValueDetection\"][\"Text\"]\n",
    "                    else:\n",
    "                        kvs[field[\"Type\"][\"Text\"]] = field[\"ValueDetection\"][\"Text\"]\n",
    "                    expense_item.append(kvs.copy())\n",
    "                    kvs = None\n",
    "print(\"Summary Items:\\n\")\n",
    "print(*summary_entities_values, sep='\\n')\n",
    "print(\"\\nExpense Items:\\n\")\n",
    "print(*expense_item, sep='\\n')"
   ]
  },
  {
   "cell_type": "code",
   "execution_count": null,
   "id": "4f776216",
   "metadata": {},
   "outputs": [],
   "source": [
    "response = textract.analyze_document(\n",
    "            Document={'S3Object': {'Bucket': s3BucketName, 'Name': documentName}},\n",
    "            FeatureTypes=[\"QUERIES\"],\n",
    "            QueriesConfig={\n",
    "                    'Queries': [\n",
    "                        {\n",
    "                            'Text': 'what is the merchant address',\n",
    "                            'Alias': 'merchant_address'\n",
    "                        },\n",
    "                    ]\n",
    "                }\n",
    "            )"
   ]
  },
  {
   "cell_type": "code",
   "execution_count": null,
   "id": "4a3ad0cb",
   "metadata": {},
   "outputs": [],
   "source": [
    "%store response"
   ]
  },
  {
   "cell_type": "code",
   "execution_count": null,
   "id": "57ddb796",
   "metadata": {},
   "outputs": [],
   "source": [
    "#print(json.dumps(response, indent=4))"
   ]
  },
  {
   "cell_type": "code",
   "execution_count": null,
   "id": "2fbdb1e4",
   "metadata": {},
   "outputs": [],
   "source": [
    "import trp.trp2 as t2\n",
    "d = t2.TDocumentSchema().load(response)\n",
    "page = d.pages[0]\n",
    "query_answers = d.get_query_answers(page=page)\n",
    "for item in query_answers:\n",
    "    print(item[1],\": \", item[2])\n",
    "    if item[1]=='merchant_address':\n",
    "        merchant_address = item[2]"
   ]
  },
  {
   "cell_type": "code",
   "execution_count": null,
   "id": "42cf6761",
   "metadata": {},
   "outputs": [],
   "source": [
    "merchant_address"
   ]
  },
  {
   "cell_type": "markdown",
   "id": "eca0617b",
   "metadata": {},
   "source": [
    "## Analyzing Receipt"
   ]
  },
  {
   "cell_type": "code",
   "execution_count": null,
   "id": "e549df72",
   "metadata": {},
   "outputs": [],
   "source": [
    "from PIL import Image\n",
    "import s3fs\n",
    "\n",
    "fs = s3fs.S3FileSystem()\n",
    "\n",
    "s3BucketName = \"my-projects-abhi-2022\"\n",
    "documentName = \"Textract/invoices_processing_workshop/receipt_0.png\"\n",
    "\n",
    "# open it directly\n",
    "with fs.open(\"s3://\" + s3BucketName + \"/\" + documentName) as f:\n",
    "    img=Image.open(f)\n",
    "    basewidth = 1000\n",
    "    wpercent = (basewidth/float(img.size[0]))\n",
    "    hsize = int((float(img.size[1])*float(wpercent)))\n",
    "    img = img.resize((basewidth,hsize), Image.BICUBIC)\n",
    "    display(img)"
   ]
  },
  {
   "cell_type": "code",
   "execution_count": null,
   "id": "bfe9d155",
   "metadata": {},
   "outputs": [],
   "source": [
    "#-- Call Amazon Textract AnalyzeExpense\n",
    "response_receipt = textract.analyze_expense(\n",
    "    Document={\n",
    "        'S3Object': {\n",
    "            'Bucket': s3BucketName,\n",
    "            'Name': documentName\n",
    "        }\n",
    "    })"
   ]
  },
  {
   "cell_type": "code",
   "execution_count": null,
   "id": "c5151309",
   "metadata": {},
   "outputs": [],
   "source": [
    "%store response_receipt"
   ]
  },
  {
   "cell_type": "code",
   "execution_count": null,
   "id": "5ad8d374",
   "metadata": {},
   "outputs": [],
   "source": [
    "pretty_printed_string = get_string(textract_json=response_receipt, output_type=[Textract_Expense_Pretty_Print.SUMMARY, Textract_Expense_Pretty_Print.LINEITEMGROUPS], table_format=Pretty_Print_Table_Format.fancy_grid)\n",
    "print(pretty_printed_string)"
   ]
  },
  {
   "cell_type": "markdown",
   "id": "0571a648",
   "metadata": {},
   "source": [
    "Now, we will use **Textract Query** feature to extract some additional information such as Date and Merchant addresss."
   ]
  },
  {
   "cell_type": "code",
   "execution_count": null,
   "id": "8cb33b73",
   "metadata": {},
   "outputs": [],
   "source": [
    "response_query_receipt = textract.analyze_document(\n",
    "            Document={'S3Object': {'Bucket': s3BucketName, 'Name': documentName}},\n",
    "            FeatureTypes=[\"QUERIES\"],\n",
    "            QueriesConfig={\n",
    "                    'Queries': [\n",
    "                        {\n",
    "                            'Text': 'what is the date',\n",
    "                            'Alias': 'Date'\n",
    "                        },\n",
    "                        {\n",
    "                            'Text': 'what is the merchant address',\n",
    "                            'Alias': 'merchant_address'\n",
    "                        }\n",
    "                    ]\n",
    "                }\n",
    "            )"
   ]
  },
  {
   "cell_type": "code",
   "execution_count": null,
   "id": "b95d2486",
   "metadata": {},
   "outputs": [],
   "source": [
    "import trp.trp2 as t2\n",
    "d = t2.TDocumentSchema().load(response_query_receipt)\n",
    "page = d.pages[0]\n",
    "query_answers = d.get_query_answers(page=page)\n",
    "for item in query_answers:\n",
    "    print(item[1],\": \", item[2])\n",
    "    if item[1]=='merchant_address':\n",
    "        merchant_address = item[2]"
   ]
  },
  {
   "cell_type": "code",
   "execution_count": null,
   "id": "34a94bbd",
   "metadata": {},
   "outputs": [],
   "source": [
    "address = merchant_address.split(\" \")[-2] +' '+ merchant_address.split(\" \")[-1]\n",
    "address"
   ]
  },
  {
   "cell_type": "markdown",
   "id": "b71fc7e3",
   "metadata": {},
   "source": [
    "### Extracting Currency from location service"
   ]
  },
  {
   "cell_type": "code",
   "execution_count": null,
   "id": "cbfbc3ae",
   "metadata": {},
   "outputs": [],
   "source": [
    "import sagemaker as sm\n",
    "role = sm.get_execution_role()\n",
    "role"
   ]
  },
  {
   "cell_type": "markdown",
   "id": "8448113f",
   "metadata": {},
   "source": [
    "**Before you can use Amazon location service, you need to ensure that you have added geo search access to SageMaker role**"
   ]
  },
  {
   "cell_type": "code",
   "execution_count": null,
   "id": "4e2bbdbe",
   "metadata": {},
   "outputs": [],
   "source": [
    "# Using Amazon Location Service. \n",
    "        \n",
    "client = boto3.client('location')\n",
    "country_api = client.search_place_index_for_text(IndexName='ExamplePlaceIndex', MaxResults=1, Text=address)\n",
    "if country_api['Results'] and country_api['Results'][0]['Relevance'] > 0.8:\n",
    "    country=country_api['Results'][0]['Place']['Country']\n",
    "    print(\"country from Amazon location API:\", country)\n",
    "    if country =='USA':\n",
    "        currency = 'USD'\n",
    "        print(\"Currency: \",currency)"
   ]
  },
  {
   "cell_type": "markdown",
   "id": "14ab2583",
   "metadata": {},
   "source": [
    "### Let's try out another receipt.."
   ]
  },
  {
   "cell_type": "code",
   "execution_count": null,
   "id": "59df388d",
   "metadata": {},
   "outputs": [],
   "source": [
    "from PIL import Image\n",
    "import s3fs\n",
    "\n",
    "fs = s3fs.S3FileSystem()\n",
    "\n",
    "s3BucketName = \"my-projects-abhi-2022\"\n",
    "documentName = \"Textract/invoices_processing_workshop/receipt_02.png\"\n",
    "\n",
    "# open it directly\n",
    "with fs.open(\"s3://\" + s3BucketName + \"/\" + documentName) as f:\n",
    "    img=Image.open(f)\n",
    "    basewidth = 1000\n",
    "    wpercent = (basewidth/float(img.size[0]))\n",
    "    hsize = int((float(img.size[1])*float(wpercent)))\n",
    "    img = img.resize((basewidth,hsize), Image.BICUBIC)\n",
    "    display(img)"
   ]
  },
  {
   "cell_type": "code",
   "execution_count": null,
   "id": "1015ceca",
   "metadata": {},
   "outputs": [],
   "source": [
    "#-- Call Amazon Textract AnalyzeExpense\n",
    "response_receipt_2 = textract.analyze_expense(\n",
    "    Document={\n",
    "        'S3Object': {\n",
    "            'Bucket': s3BucketName,\n",
    "            'Name': documentName\n",
    "        }\n",
    "    })"
   ]
  },
  {
   "cell_type": "code",
   "execution_count": null,
   "id": "10871aab",
   "metadata": {},
   "outputs": [],
   "source": [
    "%store response_receipt_2"
   ]
  },
  {
   "cell_type": "code",
   "execution_count": null,
   "id": "dea6b657",
   "metadata": {},
   "outputs": [],
   "source": [
    "pretty_printed_string = get_string(textract_json=response_receipt_2, output_type=[Textract_Expense_Pretty_Print.SUMMARY, Textract_Expense_Pretty_Print.LINEITEMGROUPS], table_format=Pretty_Print_Table_Format.fancy_grid)\n",
    "print(pretty_printed_string)"
   ]
  },
  {
   "cell_type": "code",
   "execution_count": null,
   "id": "fad136c1",
   "metadata": {},
   "outputs": [],
   "source": [
    "response_query_receipt_2 = textract.analyze_document(\n",
    "            Document={'S3Object': {'Bucket': s3BucketName, 'Name': documentName}},\n",
    "            FeatureTypes=[\"QUERIES\"],\n",
    "            QueriesConfig={\n",
    "                    'Queries': [\n",
    "                        {\n",
    "                            'Text': 'what is the date',\n",
    "                            'Alias': 'Date'\n",
    "                        },\n",
    "                        {\n",
    "                            'Text': 'what is the merchant address',\n",
    "                            'Alias': 'merchant_address'\n",
    "                        }\n",
    "                    ]\n",
    "                }\n",
    "            )"
   ]
  },
  {
   "cell_type": "code",
   "execution_count": null,
   "id": "009a3b07",
   "metadata": {},
   "outputs": [],
   "source": [
    "import trp.trp2 as t2\n",
    "d = t2.TDocumentSchema().load(response_query_receipt_2)\n",
    "page = d.pages[0]\n",
    "query_answers = d.get_query_answers(page=page)\n",
    "for item in query_answers:\n",
    "    print(item[1],\": \", item[2])\n",
    "    if item[1]=='merchant_address':\n",
    "        merchant_address = item[2]"
   ]
  },
  {
   "cell_type": "code",
   "execution_count": null,
   "id": "748020f5",
   "metadata": {},
   "outputs": [],
   "source": []
  }
 ],
 "metadata": {
  "kernelspec": {
   "display_name": "conda_python3",
   "language": "python",
   "name": "conda_python3"
  },
  "language_info": {
   "codemirror_mode": {
    "name": "ipython",
    "version": 3
   },
   "file_extension": ".py",
   "mimetype": "text/x-python",
   "name": "python",
   "nbconvert_exporter": "python",
   "pygments_lexer": "ipython3",
   "version": "3.8.12"
  }
 },
 "nbformat": 4,
 "nbformat_minor": 5
}
